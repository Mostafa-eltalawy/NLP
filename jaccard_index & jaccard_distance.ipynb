{
 "cells": [
  {
   "cell_type": "code",
   "execution_count": 1,
   "metadata": {},
   "outputs": [],
   "source": [
    "# Function to return the \n",
    "# intersection set of s1 and s2 \n",
    "def intersection(s1, s2) : \n",
    "    intersect = s1 & s2 ; \n",
    "    return intersect;"
   ]
  },
  {
   "cell_type": "code",
   "execution_count": 2,
   "metadata": {},
   "outputs": [],
   "source": [
    "# Function to return the Jaccard index of two sets \n",
    "def jaccard_index(s1, s2) : \n",
    "    # Sizes of both the sets \n",
    "    size_s1 = len(s1); \n",
    "    size_s2 = len(s2); \n",
    "    \n",
    "    # Get the intersection set \n",
    "    intersect = intersection(s1, s2); \n",
    "    \n",
    "    # Size of the intersection set \n",
    "    size_in = len(intersect); \n",
    "    \n",
    "    # Calculate the Jaccard index \n",
    "    # using the formula \n",
    "    jaccard_in = size_in / (size_s1 + size_s2 - size_in); \n",
    "    \n",
    "    # Return the Jaccard index \n",
    "    return jaccard_in; \n"
   ]
  },
  {
   "cell_type": "code",
   "execution_count": 3,
   "metadata": {},
   "outputs": [],
   "source": [
    "# Function to return the Jaccard distance \n",
    "def jaccard_distance(jaccardIndex) : \n",
    "    \n",
    "    # Calculate the Jaccard distance \n",
    "    # using the formula \n",
    "    jaccard_dist = 1 - jaccardIndex; \n",
    "    \n",
    "    # Return the Jaccard distance \n",
    "    return jaccard_dist; \n"
   ]
  },
  {
   "cell_type": "code",
   "execution_count": 8,
   "metadata": {},
   "outputs": [
    {
     "name": "stdout",
     "output_type": "stream",
     "text": [
      "s1 {1, 2, 3, 4, 5}\n",
      "s2 {4, 5, 6, 7, 8, 9, 10}\n",
      "Jaccard index =  0.2\n",
      "Jaccard distance =  0.8\n"
     ]
    }
   ],
   "source": [
    "# Driver code \n",
    "if __name__ == \"__main__\" : \n",
    "    \n",
    "    # Elements of the 1st set \n",
    "    s1 = set(); \n",
    "    s1.add(1); \n",
    "    s1.add(2); \n",
    "    s1.add(3); \n",
    "    s1.add(4); \n",
    "    s1.add(5); \n",
    "    print( \"s1\",s1)\n",
    "    # Elements of the 2nd set \n",
    "\n",
    "    s2 = set(); \n",
    "    s2.add(4); \n",
    "    s2.add(5); \n",
    "    s2.add(6); \n",
    "    s2.add(7); \n",
    "    s2.add(8); \n",
    "    s2.add(9); \n",
    "    s2.add(10); \n",
    "    print( \"s2\",s2)\n",
    "\n",
    "    jaccardIndex = jaccard_index(s1, s2); \n",
    "    \n",
    "    # Print the Jaccard index and Jaccard distance \n",
    "    print(\"Jaccard index = \",jaccardIndex); \n",
    "    print(\"Jaccard distance = \",jaccard_distance(jaccardIndex)); \n",
    "\n"
   ]
  }
 ],
 "metadata": {
  "kernelspec": {
   "display_name": "Python 3",
   "language": "python",
   "name": "python3"
  },
  "language_info": {
   "codemirror_mode": {
    "name": "ipython",
    "version": 3
   },
   "file_extension": ".py",
   "mimetype": "text/x-python",
   "name": "python",
   "nbconvert_exporter": "python",
   "pygments_lexer": "ipython3",
   "version": "3.8.3"
  }
 },
 "nbformat": 4,
 "nbformat_minor": 4
}
